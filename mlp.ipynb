{
 "cells": [
  {
   "cell_type": "markdown",
   "metadata": {},
   "source": [
    "Sources: https://www.youtube.com/channel/UCZPFjMe1uRSirmSpznqvJfQ"
   ]
  },
  {
   "cell_type": "code",
   "execution_count": 30,
   "metadata": {},
   "outputs": [],
   "source": [
    "import tensorflow as tf\n",
    "import json\n",
    "import numpy as np\n",
    "from sklearn.model_selection import train_test_split\n",
    "#import tensorflow.keras as keras\n",
    "import matplotlib.pyplot as plt\n",
    "import pydot\n",
    "#from keras.utils.vis_utils import plot_model"
   ]
  },
  {
   "cell_type": "code",
   "execution_count": 59,
   "metadata": {},
   "outputs": [],
   "source": [
    "data_path = \"data.json\""
   ]
  },
  {
   "cell_type": "code",
   "execution_count": 60,
   "metadata": {},
   "outputs": [],
   "source": [
    "def load_data(dataset_path):\n",
    "    with open(dataset_path, \"r\") as fp:\n",
    "        data =json.load(fp)\n",
    "        \n",
    "    # want to convert lists into numpy arrays\n",
    "    inputs = np.asarray(data[\"mfcc\"])\n",
    "    targets = np.asarray(data[\"labels\"])\n",
    "    \n",
    "    return inputs, targets\n",
    "    \n",
    "    "
   ]
  },
  {
   "cell_type": "code",
   "execution_count": 70,
   "metadata": {},
   "outputs": [
    {
     "name": "stdout",
     "output_type": "stream",
     "text": [
      "Train on 1960 samples, validate on 840 samples\n",
      "Epoch 1/100\n",
      "1960/1960 [==============================] - 1s 391us/sample - loss: 22.5763 - accuracy: 0.2724 - val_loss: 6.3404 - val_accuracy: 0.5167\n",
      "Epoch 2/100\n",
      "1960/1960 [==============================] - 0s 143us/sample - loss: 4.1462 - accuracy: 0.6148 - val_loss: 3.8372 - val_accuracy: 0.6560\n",
      "Epoch 3/100\n",
      "1960/1960 [==============================] - 0s 153us/sample - loss: 2.0316 - accuracy: 0.7556 - val_loss: 2.7659 - val_accuracy: 0.7250\n",
      "Epoch 4/100\n",
      "1960/1960 [==============================] - 0s 157us/sample - loss: 1.2837 - accuracy: 0.8168 - val_loss: 2.3299 - val_accuracy: 0.7524\n",
      "Epoch 5/100\n",
      "1960/1960 [==============================] - 0s 155us/sample - loss: 0.8399 - accuracy: 0.8679 - val_loss: 1.6846 - val_accuracy: 0.7845\n",
      "Epoch 6/100\n",
      "1960/1960 [==============================] - 0s 158us/sample - loss: 0.5111 - accuracy: 0.9087 - val_loss: 1.8693 - val_accuracy: 0.7929\n",
      "Epoch 7/100\n",
      "1960/1960 [==============================] - 0s 167us/sample - loss: 0.4349 - accuracy: 0.9199 - val_loss: 1.7645 - val_accuracy: 0.8083\n",
      "Epoch 8/100\n",
      "1960/1960 [==============================] - 0s 150us/sample - loss: 0.2929 - accuracy: 0.9372 - val_loss: 1.6334 - val_accuracy: 0.8024\n",
      "Epoch 9/100\n",
      "1960/1960 [==============================] - 0s 154us/sample - loss: 0.2183 - accuracy: 0.9474 - val_loss: 1.4373 - val_accuracy: 0.8226\n",
      "Epoch 10/100\n",
      "1960/1960 [==============================] - 0s 155us/sample - loss: 0.2018 - accuracy: 0.9520 - val_loss: 1.4855 - val_accuracy: 0.8238\n",
      "Epoch 11/100\n",
      "1960/1960 [==============================] - 0s 161us/sample - loss: 0.1221 - accuracy: 0.9668 - val_loss: 1.3829 - val_accuracy: 0.8321\n",
      "Epoch 12/100\n",
      "1960/1960 [==============================] - 0s 157us/sample - loss: 0.1520 - accuracy: 0.9602 - val_loss: 1.3890 - val_accuracy: 0.8321\n",
      "Epoch 13/100\n",
      "1960/1960 [==============================] - 0s 155us/sample - loss: 0.1029 - accuracy: 0.9699 - val_loss: 1.4293 - val_accuracy: 0.8417\n",
      "Epoch 14/100\n",
      "1960/1960 [==============================] - 0s 154us/sample - loss: 0.0504 - accuracy: 0.9852 - val_loss: 1.1289 - val_accuracy: 0.8571\n",
      "Epoch 15/100\n",
      "1960/1960 [==============================] - 0s 150us/sample - loss: 0.0317 - accuracy: 0.9872 - val_loss: 1.2365 - val_accuracy: 0.8571\n",
      "Epoch 16/100\n",
      "1960/1960 [==============================] - 0s 156us/sample - loss: 0.0216 - accuracy: 0.9944 - val_loss: 1.2676 - val_accuracy: 0.8583\n",
      "Epoch 17/100\n",
      "1960/1960 [==============================] - 0s 158us/sample - loss: 0.0046 - accuracy: 0.9985 - val_loss: 1.1419 - val_accuracy: 0.8571\n",
      "Epoch 18/100\n",
      "1960/1960 [==============================] - 0s 154us/sample - loss: 0.0263 - accuracy: 0.9949 - val_loss: 1.6131 - val_accuracy: 0.8274\n",
      "Epoch 19/100\n",
      "1960/1960 [==============================] - 0s 158us/sample - loss: 0.1632 - accuracy: 0.9663 - val_loss: 1.7221 - val_accuracy: 0.8060\n",
      "Epoch 20/100\n",
      "1960/1960 [==============================] - 0s 202us/sample - loss: 0.1733 - accuracy: 0.9638 - val_loss: 1.9112 - val_accuracy: 0.8143\n",
      "Epoch 21/100\n",
      "1960/1960 [==============================] - 0s 200us/sample - loss: 0.5763 - accuracy: 0.9107 - val_loss: 1.6197 - val_accuracy: 0.8417\n",
      "Epoch 22/100\n",
      "1960/1960 [==============================] - 0s 223us/sample - loss: 0.4987 - accuracy: 0.9209 - val_loss: 1.4898 - val_accuracy: 0.8440\n",
      "Epoch 23/100\n",
      "1960/1960 [==============================] - 0s 225us/sample - loss: 0.2213 - accuracy: 0.9582 - val_loss: 1.7309 - val_accuracy: 0.8024\n",
      "Epoch 24/100\n",
      "1960/1960 [==============================] - 0s 219us/sample - loss: 0.4119 - accuracy: 0.9418 - val_loss: 1.7523 - val_accuracy: 0.8250\n",
      "Epoch 25/100\n",
      "1960/1960 [==============================] - 0s 214us/sample - loss: 0.2135 - accuracy: 0.9653 - val_loss: 1.8866 - val_accuracy: 0.8310\n",
      "Epoch 26/100\n",
      "1960/1960 [==============================] - 0s 216us/sample - loss: 0.2613 - accuracy: 0.9602 - val_loss: 1.1717 - val_accuracy: 0.8869\n",
      "Epoch 27/100\n",
      "1960/1960 [==============================] - 0s 219us/sample - loss: 0.0518 - accuracy: 0.9862 - val_loss: 1.3888 - val_accuracy: 0.8631\n",
      "Epoch 28/100\n",
      "1960/1960 [==============================] - 0s 219us/sample - loss: 0.0216 - accuracy: 0.9934 - val_loss: 1.1005 - val_accuracy: 0.8845\n",
      "Epoch 29/100\n",
      "1960/1960 [==============================] - 0s 221us/sample - loss: 0.0105 - accuracy: 0.9964 - val_loss: 1.0413 - val_accuracy: 0.8881\n",
      "Epoch 30/100\n",
      "1960/1960 [==============================] - 0s 233us/sample - loss: 9.1243e-04 - accuracy: 0.9995 - val_loss: 0.9363 - val_accuracy: 0.9024\n",
      "Epoch 31/100\n",
      "1960/1960 [==============================] - 1s 292us/sample - loss: 0.0040 - accuracy: 0.9980 - val_loss: 0.9633 - val_accuracy: 0.8976\n",
      "Epoch 32/100\n",
      "1960/1960 [==============================] - 1s 320us/sample - loss: 2.2658e-04 - accuracy: 1.0000 - val_loss: 0.9977 - val_accuracy: 0.8952\n",
      "Epoch 33/100\n",
      "1960/1960 [==============================] - 0s 244us/sample - loss: 3.0747e-05 - accuracy: 1.0000 - val_loss: 0.9874 - val_accuracy: 0.8940\n",
      "Epoch 34/100\n",
      "1960/1960 [==============================] - 0s 224us/sample - loss: 2.4883e-05 - accuracy: 1.0000 - val_loss: 0.9848 - val_accuracy: 0.8952\n",
      "Epoch 35/100\n",
      "1960/1960 [==============================] - 0s 227us/sample - loss: 2.1911e-05 - accuracy: 1.0000 - val_loss: 0.9829 - val_accuracy: 0.8964\n",
      "Epoch 36/100\n",
      "1960/1960 [==============================] - 0s 222us/sample - loss: 1.9870e-05 - accuracy: 1.0000 - val_loss: 0.9812 - val_accuracy: 0.8976\n",
      "Epoch 37/100\n",
      "1960/1960 [==============================] - 0s 223us/sample - loss: 1.8277e-05 - accuracy: 1.0000 - val_loss: 0.9802 - val_accuracy: 0.8976\n",
      "Epoch 38/100\n",
      "1960/1960 [==============================] - 0s 207us/sample - loss: 1.6970e-05 - accuracy: 1.0000 - val_loss: 0.9788 - val_accuracy: 0.8976\n",
      "Epoch 39/100\n",
      "1960/1960 [==============================] - 0s 218us/sample - loss: 1.5979e-05 - accuracy: 1.0000 - val_loss: 0.9775 - val_accuracy: 0.8976\n",
      "Epoch 40/100\n",
      "1960/1960 [==============================] - 0s 217us/sample - loss: 1.5093e-05 - accuracy: 1.0000 - val_loss: 0.9770 - val_accuracy: 0.8976\n",
      "Epoch 41/100\n",
      "1960/1960 [==============================] - 0s 217us/sample - loss: 1.4381e-05 - accuracy: 1.0000 - val_loss: 0.9764 - val_accuracy: 0.8988\n",
      "Epoch 42/100\n",
      "1960/1960 [==============================] - 0s 208us/sample - loss: 1.3719e-05 - accuracy: 1.0000 - val_loss: 0.9753 - val_accuracy: 0.9000\n",
      "Epoch 43/100\n",
      "1960/1960 [==============================] - 0s 211us/sample - loss: 1.3099e-05 - accuracy: 1.0000 - val_loss: 0.9748 - val_accuracy: 0.9000\n",
      "Epoch 44/100\n",
      "1960/1960 [==============================] - 0s 214us/sample - loss: 1.2564e-05 - accuracy: 1.0000 - val_loss: 0.9742 - val_accuracy: 0.9000\n",
      "Epoch 45/100\n",
      "1960/1960 [==============================] - 0s 215us/sample - loss: 1.2037e-05 - accuracy: 1.0000 - val_loss: 0.9738 - val_accuracy: 0.9000\n",
      "Epoch 46/100\n",
      "1960/1960 [==============================] - 0s 216us/sample - loss: 1.1592e-05 - accuracy: 1.0000 - val_loss: 0.9734 - val_accuracy: 0.9000\n",
      "Epoch 47/100\n",
      "1960/1960 [==============================] - 0s 210us/sample - loss: 1.1178e-05 - accuracy: 1.0000 - val_loss: 0.9728 - val_accuracy: 0.9000\n",
      "Epoch 48/100\n",
      "1960/1960 [==============================] - 0s 199us/sample - loss: 1.0806e-05 - accuracy: 1.0000 - val_loss: 0.9724 - val_accuracy: 0.9000\n",
      "Epoch 49/100\n",
      "1960/1960 [==============================] - 0s 205us/sample - loss: 1.0430e-05 - accuracy: 1.0000 - val_loss: 0.9723 - val_accuracy: 0.9000\n",
      "Epoch 50/100\n",
      "1960/1960 [==============================] - 0s 213us/sample - loss: 1.0076e-05 - accuracy: 1.0000 - val_loss: 0.9717 - val_accuracy: 0.9000\n",
      "Epoch 51/100\n",
      "1960/1960 [==============================] - 0s 211us/sample - loss: 9.7475e-06 - accuracy: 1.0000 - val_loss: 0.9711 - val_accuracy: 0.9000\n",
      "Epoch 52/100\n",
      "1960/1960 [==============================] - 0s 205us/sample - loss: 9.4829e-06 - accuracy: 1.0000 - val_loss: 0.9710 - val_accuracy: 0.9000\n",
      "Epoch 53/100\n",
      "1960/1960 [==============================] - 0s 199us/sample - loss: 9.1704e-06 - accuracy: 1.0000 - val_loss: 0.9703 - val_accuracy: 0.9000\n",
      "Epoch 54/100\n",
      "1960/1960 [==============================] - 0s 203us/sample - loss: 8.8901e-06 - accuracy: 1.0000 - val_loss: 0.9700 - val_accuracy: 0.9012\n"
     ]
    },
    {
     "name": "stdout",
     "output_type": "stream",
     "text": [
      "Epoch 55/100\n",
      "1960/1960 [==============================] - 0s 211us/sample - loss: 8.6151e-06 - accuracy: 1.0000 - val_loss: 0.9701 - val_accuracy: 0.9012\n",
      "Epoch 56/100\n",
      "1960/1960 [==============================] - 0s 211us/sample - loss: 8.3737e-06 - accuracy: 1.0000 - val_loss: 0.9701 - val_accuracy: 0.9012\n",
      "Epoch 57/100\n",
      "1960/1960 [==============================] - 0s 219us/sample - loss: 8.1444e-06 - accuracy: 1.0000 - val_loss: 0.9696 - val_accuracy: 0.9012\n",
      "Epoch 58/100\n",
      "1960/1960 [==============================] - 0s 200us/sample - loss: 7.9170e-06 - accuracy: 1.0000 - val_loss: 0.9690 - val_accuracy: 0.9012\n",
      "Epoch 59/100\n",
      "1960/1960 [==============================] - 0s 210us/sample - loss: 7.6831e-06 - accuracy: 1.0000 - val_loss: 0.9687 - val_accuracy: 0.9012\n",
      "Epoch 60/100\n",
      "1960/1960 [==============================] - 0s 215us/sample - loss: 7.4732e-06 - accuracy: 1.0000 - val_loss: 0.9686 - val_accuracy: 0.9012\n",
      "Epoch 61/100\n",
      "1960/1960 [==============================] - 0s 216us/sample - loss: 7.2815e-06 - accuracy: 1.0000 - val_loss: 0.9685 - val_accuracy: 0.9012\n",
      "Epoch 62/100\n",
      "1960/1960 [==============================] - 0s 212us/sample - loss: 7.0869e-06 - accuracy: 1.0000 - val_loss: 0.9683 - val_accuracy: 0.9000\n",
      "Epoch 63/100\n",
      "1960/1960 [==============================] - 0s 201us/sample - loss: 6.9368e-06 - accuracy: 1.0000 - val_loss: 0.9678 - val_accuracy: 0.9000\n",
      "Epoch 64/100\n",
      "1960/1960 [==============================] - 0s 211us/sample - loss: 6.6950e-06 - accuracy: 1.0000 - val_loss: 0.9674 - val_accuracy: 0.9000\n",
      "Epoch 65/100\n",
      "1960/1960 [==============================] - 0s 217us/sample - loss: 6.5596e-06 - accuracy: 1.0000 - val_loss: 0.9669 - val_accuracy: 0.9000\n",
      "Epoch 66/100\n",
      "1960/1960 [==============================] - 0s 212us/sample - loss: 6.4149e-06 - accuracy: 1.0000 - val_loss: 0.9669 - val_accuracy: 0.9000\n",
      "Epoch 67/100\n",
      "1960/1960 [==============================] - 0s 208us/sample - loss: 6.2221e-06 - accuracy: 1.0000 - val_loss: 0.9669 - val_accuracy: 0.9000\n",
      "Epoch 68/100\n",
      "1960/1960 [==============================] - 0s 203us/sample - loss: 6.0782e-06 - accuracy: 1.0000 - val_loss: 0.9666 - val_accuracy: 0.9000\n",
      "Epoch 69/100\n",
      "1960/1960 [==============================] - 0s 218us/sample - loss: 5.9406e-06 - accuracy: 1.0000 - val_loss: 0.9664 - val_accuracy: 0.9000\n",
      "Epoch 70/100\n",
      "1960/1960 [==============================] - 0s 219us/sample - loss: 5.8040e-06 - accuracy: 1.0000 - val_loss: 0.9664 - val_accuracy: 0.9000\n",
      "Epoch 71/100\n",
      "1960/1960 [==============================] - 0s 213us/sample - loss: 5.6469e-06 - accuracy: 1.0000 - val_loss: 0.9662 - val_accuracy: 0.9000\n",
      "Epoch 72/100\n",
      "1960/1960 [==============================] - 0s 208us/sample - loss: 5.5181e-06 - accuracy: 1.0000 - val_loss: 0.9656 - val_accuracy: 0.9000\n",
      "Epoch 73/100\n",
      "1960/1960 [==============================] - 0s 211us/sample - loss: 5.3538e-06 - accuracy: 1.0000 - val_loss: 0.9656 - val_accuracy: 0.9000\n",
      "Epoch 74/100\n",
      "1960/1960 [==============================] - 0s 214us/sample - loss: 5.2454e-06 - accuracy: 1.0000 - val_loss: 0.9655 - val_accuracy: 0.9000\n",
      "Epoch 75/100\n",
      "1960/1960 [==============================] - 0s 213us/sample - loss: 5.1281e-06 - accuracy: 1.0000 - val_loss: 0.9653 - val_accuracy: 0.9000\n",
      "Epoch 76/100\n",
      "1960/1960 [==============================] - 0s 213us/sample - loss: 4.9954e-06 - accuracy: 1.0000 - val_loss: 0.9649 - val_accuracy: 0.9000\n",
      "Epoch 77/100\n",
      "1960/1960 [==============================] - 0s 203us/sample - loss: 4.8835e-06 - accuracy: 1.0000 - val_loss: 0.9650 - val_accuracy: 0.9000\n",
      "Epoch 78/100\n",
      "1960/1960 [==============================] - 0s 214us/sample - loss: 4.7499e-06 - accuracy: 1.0000 - val_loss: 0.9646 - val_accuracy: 0.9000\n",
      "Epoch 79/100\n",
      "1960/1960 [==============================] - 0s 216us/sample - loss: 4.6808e-06 - accuracy: 1.0000 - val_loss: 0.9645 - val_accuracy: 0.9000\n",
      "Epoch 80/100\n",
      "1960/1960 [==============================] - 0s 212us/sample - loss: 4.5471e-06 - accuracy: 1.0000 - val_loss: 0.9643 - val_accuracy: 0.9000\n",
      "Epoch 81/100\n",
      "1960/1960 [==============================] - 0s 216us/sample - loss: 4.4464e-06 - accuracy: 1.0000 - val_loss: 0.9641 - val_accuracy: 0.9000\n",
      "Epoch 82/100\n",
      "1960/1960 [==============================] - 0s 197us/sample - loss: 4.3401e-06 - accuracy: 1.0000 - val_loss: 0.9638 - val_accuracy: 0.9000\n",
      "Epoch 83/100\n",
      "1960/1960 [==============================] - 0s 214us/sample - loss: 4.2354e-06 - accuracy: 1.0000 - val_loss: 0.9639 - val_accuracy: 0.9000\n",
      "Epoch 84/100\n",
      "1960/1960 [==============================] - 0s 218us/sample - loss: 4.1319e-06 - accuracy: 1.0000 - val_loss: 0.9634 - val_accuracy: 0.9000\n",
      "Epoch 85/100\n",
      "1960/1960 [==============================] - 0s 212us/sample - loss: 4.0331e-06 - accuracy: 1.0000 - val_loss: 0.9632 - val_accuracy: 0.9000\n",
      "Epoch 86/100\n",
      "1960/1960 [==============================] - 0s 219us/sample - loss: 3.9383e-06 - accuracy: 1.0000 - val_loss: 0.9630 - val_accuracy: 0.9000\n",
      "Epoch 87/100\n",
      "1960/1960 [==============================] - 0s 198us/sample - loss: 3.8408e-06 - accuracy: 1.0000 - val_loss: 0.9630 - val_accuracy: 0.9000\n",
      "Epoch 88/100\n",
      "1960/1960 [==============================] - 0s 211us/sample - loss: 3.7700e-06 - accuracy: 1.0000 - val_loss: 0.9628 - val_accuracy: 0.9000\n",
      "Epoch 89/100\n",
      "1960/1960 [==============================] - 0s 210us/sample - loss: 3.6860e-06 - accuracy: 1.0000 - val_loss: 0.9626 - val_accuracy: 0.9000\n",
      "Epoch 90/100\n",
      "1960/1960 [==============================] - 0s 216us/sample - loss: 3.6102e-06 - accuracy: 1.0000 - val_loss: 0.9624 - val_accuracy: 0.9000\n",
      "Epoch 91/100\n",
      "1960/1960 [==============================] - 0s 204us/sample - loss: 3.5338e-06 - accuracy: 1.0000 - val_loss: 0.9624 - val_accuracy: 0.9000\n",
      "Epoch 92/100\n",
      "1960/1960 [==============================] - 0s 200us/sample - loss: 3.4472e-06 - accuracy: 1.0000 - val_loss: 0.9620 - val_accuracy: 0.9000\n",
      "Epoch 93/100\n",
      "1960/1960 [==============================] - 0s 208us/sample - loss: 3.3507e-06 - accuracy: 1.0000 - val_loss: 0.9619 - val_accuracy: 0.9000\n",
      "Epoch 94/100\n",
      "1960/1960 [==============================] - 0s 219us/sample - loss: 3.2778e-06 - accuracy: 1.0000 - val_loss: 0.9621 - val_accuracy: 0.9000\n",
      "Epoch 95/100\n",
      "1960/1960 [==============================] - 0s 214us/sample - loss: 3.2075e-06 - accuracy: 1.0000 - val_loss: 0.9617 - val_accuracy: 0.9000\n",
      "Epoch 96/100\n",
      "1960/1960 [==============================] - 0s 209us/sample - loss: 3.1226e-06 - accuracy: 1.0000 - val_loss: 0.9617 - val_accuracy: 0.9000\n",
      "Epoch 97/100\n",
      "1960/1960 [==============================] - 0s 206us/sample - loss: 3.0399e-06 - accuracy: 1.0000 - val_loss: 0.9614 - val_accuracy: 0.9000\n",
      "Epoch 98/100\n",
      "1960/1960 [==============================] - ETA: 0s - loss: 2.8110e-06 - accuracy: 1.00 - 0s 208us/sample - loss: 2.9865e-06 - accuracy: 1.0000 - val_loss: 0.9613 - val_accuracy: 0.9000\n",
      "Epoch 99/100\n",
      "1960/1960 [==============================] - 0s 212us/sample - loss: 2.9091e-06 - accuracy: 1.0000 - val_loss: 0.9612 - val_accuracy: 0.9000\n",
      "Epoch 100/100\n",
      "1960/1960 [==============================] - 0s 209us/sample - loss: 2.8431e-06 - accuracy: 1.0000 - val_loss: 0.9613 - val_accuracy: 0.9000\n",
      "840/840 [==============================] - 0s 83us/sample - loss: 0.9613 - accuracy: 0.9000\n",
      "Accuracy on the test set is: 0.8999999761581421\n"
     ]
    }
   ],
   "source": [
    "if __name__ == \"__main__\":\n",
    "    #loading the data\n",
    "    inputs, targets = load_data(data_path)\n",
    "    \n",
    "    #splitting data into train and test sets. The 0.3 means 30% used for test set.\n",
    "    inputs_train, inputs_test, targets_train, targets_test = train_test_split(inputs, \n",
    "                                                                              targets, \n",
    "                                                                              test_size = 0.3)\n",
    "    #building the model\n",
    "    #multilayer perceptron\n",
    "    model = keras.Sequential([\n",
    "        #input layer\n",
    "        #flatten takes a multidimensional array and \"flattens\" it out\n",
    "      \n",
    "        keras.layers.Flatten(),\n",
    "        \n",
    "        #first hidden layer, 512 neurons\n",
    "        keras.layers.Dense(512, activation=\"relu\"),\n",
    "        #2nd hidden layer \n",
    "        keras.layers.Dense(256, activation=\"relu\"),\n",
    "        \n",
    "        #keras.layers.Dense(256, activation=\"relu\"),\n",
    "        \n",
    "        # 3rd hidden layer\n",
    "        keras.layers.Dense(64, activation=\"relu\"),\n",
    "        #output layer, 7 neurons for 7 emotional categories\n",
    "        keras.layers.Dense(14, activation=\"softmax\"),\n",
    "    ])\n",
    "    # now we want to compile the network\n",
    "    optimizer = keras.optimizers.Adam(learning_rate=0.0001)\n",
    "    model.compile(optimizer=optimizer,\n",
    "                  loss=\"sparse_categorical_crossentropy\",\n",
    "                  metrics=[\"accuracy\"])\n",
    "    #model.summary()\n",
    "    \n",
    "    #training the network\n",
    "    #using mini-batch basically, taking samples from the dataset (usually of 16-128 in size)\n",
    "    history = model.fit(inputs_train, targets_train, \n",
    "              validation_data=(inputs_test, targets_test),\n",
    "              epochs=100,\n",
    "              batch_size=25)\n",
    "      # evaluating the netowrk on the next set\n",
    "    test_error, test_accuracy = model.evaluate(inputs_test, targets_test, verbose=1)\n",
    "    print(\"Accuracy on the test set is: {}\".format(test_accuracy))\n"
   ]
  },
  {
   "cell_type": "code",
   "execution_count": 58,
   "metadata": {},
   "outputs": [
    {
     "name": "stdout",
     "output_type": "stream",
     "text": [
      "(1960, 44, 13)\n",
      "(840, 44, 13)\n",
      "(2800, 44, 13)\n"
     ]
    }
   ],
   "source": [
    "print(inputs_train.shape)\n",
    "print(inputs_test.shape)\n",
    "print(inputs.shape)\n",
    "\n"
   ]
  },
  {
   "cell_type": "code",
   "execution_count": 77,
   "metadata": {},
   "outputs": [
    {
     "data": {
      "image/png": "[encoded data removed]",
      "text/plain": [
       "<Figure size 432x288 with 1 Axes>"
      ]
     },
     "metadata": {
      "needs_background": "light"
     },
     "output_type": "display_data"
    }
   ],
   "source": [
    "fig, axs = plt.subplots()\n",
    "\n",
    "    # create accuracy subplots\n",
    "axs.plot(history.history[\"accuracy\"], label=\"train accuracy\")\n",
    "axs.plot(history.history[\"val_accuracy\"], label=\"test accuracy\")\n",
    "axs.set_ylabel(\"Accuracy\")\n",
    "axs.set_xlabel(\"Epoch\")\n",
    "axs.legend(loc=\"lower right\")\n",
    "axs.set_title(\"Accuracy eval\")\n",
    "plt.show()"
   ]
  },
  {
   "cell_type": "code",
   "execution_count": 53,
   "metadata": {},
   "outputs": [],
   "source": [
    "# this will predict individual points \n",
    "def predict(model, x, y):\n",
    "    x = x[np.newaxis, ...]\n",
    "    \n",
    "    # the prediction is 2d\n",
    "    preds = model.predict(x) # expects a 4d array but X is originally 3d\n",
    "    \n",
    "    # want to extract the index of X with the max favlue\n",
    "    pred_index = np.argmax(preds, axis = 1 ) # \n",
    "    print(\"Expected index of the output: {}, Predicted index: {}\".format(y, pred_index))"
   ]
  },
  {
   "cell_type": "code",
   "execution_count": 73,
   "metadata": {},
   "outputs": [],
   "source": [
    "# testing the model with noisy data \n",
    "# first import the new data \n",
    "data_path2 = \"data-light-noise.json\"\n",
    "X, y = load_data(data_path2)\n",
    "X = X[...,np.newaxis]"
   ]
  },
  {
   "cell_type": "code",
   "execution_count": 82,
   "metadata": {},
   "outputs": [
    {
     "name": "stdout",
     "output_type": "stream",
     "text": [
      "2800/2800 [==============================] - 0s 146us/sample - loss: 1.2539 - accuracy: 0.8429\n",
      "Accuracy on the Light Noise set is: 0.8428571224212646\n"
     ]
    }
   ],
   "source": [
    "test_error_noise, test_accuracy_noise= model.evaluate(X, y, verbose=1)\n",
    "print(\"Accuracy on the Light Noise set is: {}\".format(test_accuracy_noise))"
   ]
  },
  {
   "cell_type": "code",
   "execution_count": 75,
   "metadata": {},
   "outputs": [],
   "source": [
    "data_path3 = \"data-heavy-noise.json\"\n",
    "X2, y2 = load_data(data_path3)\n",
    "X2 = X2[...,np.newaxis]"
   ]
  },
  {
   "cell_type": "code",
   "execution_count": 76,
   "metadata": {},
   "outputs": [
    {
     "name": "stdout",
     "output_type": "stream",
     "text": [
      "2800/2800 [==============================] - 0s 60us/sample - loss: 3.9382 - accuracy: 0.4757\n",
      "Accuracy on the Heavy Noise set is: 0.4757142961025238\n"
     ]
    }
   ],
   "source": [
    "test_error_heavy, test_accuracy_heavy= model.evaluate(X2, y2, verbose=1)\n",
    "print(\"Accuracy on the Heavy Noise set is: {}\".format(test_accuracy_heavy))"
   ]
  },
  {
   "cell_type": "code",
   "execution_count": null,
   "metadata": {},
   "outputs": [],
   "source": []
  }
 ],
 "metadata": {
  "kernelspec": {
   "display_name": "Python 3",
   "language": "python",
   "name": "python3"
  },
  "language_info": {
   "codemirror_mode": {
    "name": "ipython",
    "version": 3
   },
   "file_extension": ".py",
   "mimetype": "text/x-python",
   "name": "python",
   "nbconvert_exporter": "python",
   "pygments_lexer": "ipython3",
   "version": "3.7.4"
  }
 },
 "nbformat": 4,
 "nbformat_minor": 2
}
