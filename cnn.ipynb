{
 "cells": [
  {
   "cell_type": "markdown",
   "metadata": {},
   "source": [
    "Sources: \n",
    "1. https://towardsdatascience.com/speech-emotion-recognition-with-convolution-neural-network-1e6bb7130ce3\n",
    "2. https://www.youtube.com/channel/UCZPFjMe1uRSirmSpznqvJfQ"
   ]
  },
  {
   "cell_type": "code",
   "execution_count": 1,
   "metadata": {},
   "outputs": [
    {
     "name": "stderr",
     "output_type": "stream",
     "text": [
      "Using TensorFlow backend.\n"
     ]
    }
   ],
   "source": [
    "import tensorflow as tf\n",
    "import json\n",
    "import numpy as np\n",
    "from sklearn.model_selection import train_test_split\n",
    "import tensorflow.keras as keras\n",
    "import matplotlib.pyplot as plt\n",
    "import pydot\n",
    "from keras.utils.vis_utils import plot_model"
   ]
  },
  {
   "cell_type": "code",
   "execution_count": 2,
   "metadata": {},
   "outputs": [],
   "source": [
    "data_path = \"data.json\""
   ]
  },
  {
   "cell_type": "code",
   "execution_count": 3,
   "metadata": {},
   "outputs": [],
   "source": [
    "def load_data(dataset_path):\n",
    "    with open(dataset_path, \"r\") as fp:\n",
    "        data =json.load(fp)\n",
    "        \n",
    "    # want to convert lists into numpy arrays\n",
    "    X = np.asarray(data[\"mfcc\"])\n",
    "    y = np.asarray(data[\"labels\"])\n",
    "    \n",
    "    return X, y"
   ]
  },
  {
   "cell_type": "code",
   "execution_count": 4,
   "metadata": {},
   "outputs": [],
   "source": [
    "def prepare_datasets(test_size, validation_size):\n",
    "    # loading the data\n",
    "    X, y = load_data(data_path)\n",
    "    \n",
    "    # creating a training and testing split in the data first\n",
    "    X_train, X_test, y_train, y_test = train_test_split(X, y, test_size=test_size)\n",
    "    \n",
    "    # now creating the training and validation split\n",
    "    X_train, X_validation, y_train, y_validation = train_test_split(X_train, y_train, \n",
    "                                                                    test_size=validation_size)\n",
    "    # for CNN tf expects a 3-d array for each sample. The third dimension for us is one.\n",
    "    X_train = X_train[..., np.newaxis] #this will now be a 4D array, not sure if we need this\n",
    "    X_test = X_test[..., np.newaxis]\n",
    "    X_validation = X_validation[..., np.newaxis]\n",
    "    \n",
    "    return X_train, X_validation, X_test, y_train, y_validation, y_test "
   ]
  },
  {
   "cell_type": "code",
   "execution_count": 5,
   "metadata": {},
   "outputs": [],
   "source": [
    "def build_model(input_shape):\n",
    "    #create the model\n",
    "    model = keras.Sequential()\n",
    "    \n",
    "    # first conv layer, 32 filters (kernals), grid size, and the activation function\n",
    "    model.add(keras.layers.Conv2D(32, (3, 3), activation='relu', input_shape=input_shape))\n",
    "    model.add(keras.layers.MaxPool2D((3,3), strides=(2,2), padding='same'))\n",
    "    model.add(keras.layers.BatchNormalization())\n",
    "    \n",
    "    # second conv layer\n",
    "    model.add(keras.layers.Conv2D(32, (3, 3), activation='relu', input_shape=input_shape))\n",
    "    model.add(keras.layers.MaxPool2D((3,3), strides=(2,2), padding='same'))\n",
    "    model.add(keras.layers.BatchNormalization())\n",
    "    \n",
    "    # third conv layer\n",
    "    model.add(keras.layers.Conv2D(32, (2, 2), activation='relu', input_shape=input_shape))\n",
    "    model.add(keras.layers.MaxPool2D((2,2), strides=(2,2), padding='same'))\n",
    "    model.add(keras.layers.BatchNormalization())\n",
    "    \n",
    "    #flatten the output and then this goes into a dense layer\n",
    "    model.add(keras.layers.Flatten())\n",
    "    model.add(keras.layers.Dense(64, activation='relu'))\n",
    "    #this helps guard against overfitting\n",
    "    model.add(keras.layers.Dropout(0.3))\n",
    "    # output, want as many layers as the numbers of classifications we are trying to predict\n",
    "    model.add(keras.layers.Dense(14, activation='softmax'))\n",
    "    \n",
    "    return model"
   ]
  },
  {
   "cell_type": "code",
   "execution_count": 12,
   "metadata": {},
   "outputs": [
    {
     "name": "stdout",
     "output_type": "stream",
     "text": [
      "Train on 1568 samples, validate on 392 samples\n",
      "Epoch 1/100\n",
      "1568/1568 [==============================] - 3s 2ms/sample - loss: 3.2056 - accuracy: 0.0874 - val_loss: 3.4270 - val_accuracy: 0.0791\n",
      "Epoch 2/100\n",
      "1568/1568 [==============================] - 1s 704us/sample - loss: 2.7367 - accuracy: 0.1378 - val_loss: 2.6831 - val_accuracy: 0.0995\n",
      "Epoch 3/100\n",
      "1568/1568 [==============================] - 1s 626us/sample - loss: 2.4100 - accuracy: 0.2239 - val_loss: 2.3512 - val_accuracy: 0.1862\n",
      "Epoch 4/100\n",
      "1568/1568 [==============================] - 1s 619us/sample - loss: 2.1968 - accuracy: 0.2742 - val_loss: 2.1306 - val_accuracy: 0.2857\n",
      "Epoch 5/100\n",
      "1568/1568 [==============================] - 1s 630us/sample - loss: 1.9936 - accuracy: 0.3527 - val_loss: 1.9542 - val_accuracy: 0.3673\n",
      "Epoch 6/100\n",
      "1568/1568 [==============================] - 1s 631us/sample - loss: 1.8343 - accuracy: 0.4043 - val_loss: 1.8071 - val_accuracy: 0.4413\n",
      "Epoch 7/100\n",
      "1568/1568 [==============================] - 1s 616us/sample - loss: 1.7330 - accuracy: 0.4547 - val_loss: 1.6535 - val_accuracy: 0.5281\n",
      "Epoch 8/100\n",
      "1568/1568 [==============================] - 1s 581us/sample - loss: 1.5984 - accuracy: 0.4955 - val_loss: 1.5273 - val_accuracy: 0.5816\n",
      "Epoch 9/100\n",
      "1568/1568 [==============================] - 1s 629us/sample - loss: 1.4873 - accuracy: 0.5568 - val_loss: 1.4135 - val_accuracy: 0.6173\n",
      "Epoch 10/100\n",
      "1568/1568 [==============================] - 1s 636us/sample - loss: 1.4062 - accuracy: 0.5612 - val_loss: 1.3053 - val_accuracy: 0.6403\n",
      "Epoch 11/100\n",
      "1568/1568 [==============================] - 1s 599us/sample - loss: 1.3126 - accuracy: 0.6116 - val_loss: 1.2243 - val_accuracy: 0.6633\n",
      "Epoch 12/100\n",
      "1568/1568 [==============================] - 1s 616us/sample - loss: 1.2626 - accuracy: 0.6237 - val_loss: 1.1561 - val_accuracy: 0.6811\n",
      "Epoch 13/100\n",
      "1568/1568 [==============================] - 1s 611us/sample - loss: 1.1761 - accuracy: 0.6537 - val_loss: 1.0758 - val_accuracy: 0.6939\n",
      "Epoch 14/100\n",
      "1568/1568 [==============================] - 1s 608us/sample - loss: 1.0930 - accuracy: 0.6728 - val_loss: 1.0137 - val_accuracy: 0.7092\n",
      "Epoch 15/100\n",
      "1568/1568 [==============================] - 1s 601us/sample - loss: 0.9935 - accuracy: 0.7111 - val_loss: 0.9600 - val_accuracy: 0.7245\n",
      "Epoch 16/100\n",
      "1568/1568 [==============================] - 1s 596us/sample - loss: 0.9443 - accuracy: 0.7149 - val_loss: 0.9058 - val_accuracy: 0.7398\n",
      "Epoch 17/100\n",
      "1568/1568 [==============================] - 1s 595us/sample - loss: 0.8952 - accuracy: 0.7379 - val_loss: 0.8582 - val_accuracy: 0.7628\n",
      "Epoch 18/100\n",
      "1568/1568 [==============================] - 1s 606us/sample - loss: 0.8416 - accuracy: 0.7551 - val_loss: 0.8083 - val_accuracy: 0.7755\n",
      "Epoch 19/100\n",
      "1568/1568 [==============================] - 1s 603us/sample - loss: 0.7872 - accuracy: 0.7851 - val_loss: 0.7718 - val_accuracy: 0.7959\n",
      "Epoch 20/100\n",
      "1568/1568 [==============================] - 1s 599us/sample - loss: 0.7452 - accuracy: 0.7978 - val_loss: 0.7353 - val_accuracy: 0.7959\n",
      "Epoch 21/100\n",
      "1568/1568 [==============================] - 1s 595us/sample - loss: 0.7182 - accuracy: 0.7781 - val_loss: 0.6844 - val_accuracy: 0.8138\n",
      "Epoch 22/100\n",
      "1568/1568 [==============================] - 1s 601us/sample - loss: 0.6835 - accuracy: 0.8042 - val_loss: 0.6626 - val_accuracy: 0.8265\n",
      "Epoch 23/100\n",
      "1568/1568 [==============================] - 1s 592us/sample - loss: 0.6388 - accuracy: 0.8233 - val_loss: 0.6353 - val_accuracy: 0.8316\n",
      "Epoch 24/100\n",
      "1568/1568 [==============================] - 1s 614us/sample - loss: 0.6070 - accuracy: 0.8246 - val_loss: 0.6033 - val_accuracy: 0.8265\n",
      "Epoch 25/100\n",
      "1568/1568 [==============================] - 1s 588us/sample - loss: 0.5694 - accuracy: 0.8386 - val_loss: 0.5841 - val_accuracy: 0.8367\n",
      "Epoch 26/100\n",
      "1568/1568 [==============================] - 1s 585us/sample - loss: 0.5565 - accuracy: 0.8438 - val_loss: 0.5444 - val_accuracy: 0.8495\n",
      "Epoch 27/100\n",
      "1568/1568 [==============================] - 1s 585us/sample - loss: 0.4949 - accuracy: 0.8565 - val_loss: 0.5332 - val_accuracy: 0.8469\n",
      "Epoch 28/100\n",
      "1568/1568 [==============================] - 1s 579us/sample - loss: 0.4806 - accuracy: 0.8693 - val_loss: 0.5056 - val_accuracy: 0.8571\n",
      "Epoch 29/100\n",
      "1568/1568 [==============================] - 1s 583us/sample - loss: 0.4612 - accuracy: 0.8667 - val_loss: 0.4778 - val_accuracy: 0.8622\n",
      "Epoch 30/100\n",
      "1568/1568 [==============================] - 1s 590us/sample - loss: 0.4427 - accuracy: 0.8884 - val_loss: 0.4658 - val_accuracy: 0.8648\n",
      "Epoch 31/100\n",
      "1568/1568 [==============================] - 1s 603us/sample - loss: 0.4430 - accuracy: 0.8814 - val_loss: 0.4432 - val_accuracy: 0.8673\n",
      "Epoch 32/100\n",
      "1568/1568 [==============================] - 1s 585us/sample - loss: 0.3943 - accuracy: 0.8903 - val_loss: 0.4383 - val_accuracy: 0.8699\n",
      "Epoch 33/100\n",
      "1568/1568 [==============================] - 1s 612us/sample - loss: 0.3764 - accuracy: 0.8999 - val_loss: 0.4105 - val_accuracy: 0.8801\n",
      "Epoch 34/100\n",
      "1568/1568 [==============================] - 1s 589us/sample - loss: 0.3790 - accuracy: 0.8967 - val_loss: 0.3987 - val_accuracy: 0.8801\n",
      "Epoch 35/100\n",
      "1568/1568 [==============================] - 1s 616us/sample - loss: 0.3663 - accuracy: 0.8929 - val_loss: 0.3872 - val_accuracy: 0.8878\n",
      "Epoch 36/100\n",
      "1568/1568 [==============================] - 1s 597us/sample - loss: 0.3589 - accuracy: 0.9037 - val_loss: 0.3760 - val_accuracy: 0.8929\n",
      "Epoch 37/100\n",
      "1568/1568 [==============================] - 1s 556us/sample - loss: 0.3169 - accuracy: 0.9152 - val_loss: 0.3676 - val_accuracy: 0.8929\n",
      "Epoch 38/100\n",
      "1568/1568 [==============================] - 1s 558us/sample - loss: 0.3169 - accuracy: 0.9196 - val_loss: 0.3618 - val_accuracy: 0.8903\n",
      "Epoch 39/100\n",
      "1568/1568 [==============================] - 1s 578us/sample - loss: 0.3093 - accuracy: 0.9133 - val_loss: 0.3504 - val_accuracy: 0.8954\n",
      "Epoch 40/100\n",
      "1568/1568 [==============================] - 1s 585us/sample - loss: 0.2716 - accuracy: 0.9298 - val_loss: 0.3408 - val_accuracy: 0.9005\n",
      "Epoch 41/100\n",
      "1568/1568 [==============================] - 1s 596us/sample - loss: 0.2707 - accuracy: 0.9279 - val_loss: 0.3293 - val_accuracy: 0.9082\n",
      "Epoch 42/100\n",
      "1568/1568 [==============================] - 1s 564us/sample - loss: 0.2644 - accuracy: 0.9401 - val_loss: 0.3174 - val_accuracy: 0.9031\n",
      "Epoch 43/100\n",
      "1568/1568 [==============================] - 1s 552us/sample - loss: 0.2610 - accuracy: 0.9394 - val_loss: 0.3160 - val_accuracy: 0.9082\n",
      "Epoch 44/100\n",
      "1568/1568 [==============================] - 1s 546us/sample - loss: 0.2369 - accuracy: 0.9426 - val_loss: 0.3060 - val_accuracy: 0.9056\n",
      "Epoch 45/100\n",
      "1568/1568 [==============================] - 1s 602us/sample - loss: 0.2479 - accuracy: 0.9426 - val_loss: 0.2894 - val_accuracy: 0.9082\n",
      "Epoch 46/100\n",
      "1568/1568 [==============================] - 1s 582us/sample - loss: 0.2259 - accuracy: 0.9483 - val_loss: 0.2844 - val_accuracy: 0.9184\n",
      "Epoch 47/100\n",
      "1568/1568 [==============================] - 1s 570us/sample - loss: 0.2199 - accuracy: 0.9407 - val_loss: 0.2754 - val_accuracy: 0.9235\n",
      "Epoch 48/100\n",
      "1568/1568 [==============================] - 1s 573us/sample - loss: 0.2139 - accuracy: 0.9471 - val_loss: 0.2669 - val_accuracy: 0.9286\n",
      "Epoch 49/100\n",
      "1568/1568 [==============================] - 1s 583us/sample - loss: 0.2098 - accuracy: 0.9477 - val_loss: 0.2662 - val_accuracy: 0.9209\n",
      "Epoch 50/100\n",
      "1568/1568 [==============================] - 1s 579us/sample - loss: 0.1885 - accuracy: 0.9643 - val_loss: 0.2537 - val_accuracy: 0.9337\n",
      "Epoch 51/100\n",
      "1568/1568 [==============================] - 1s 564us/sample - loss: 0.2026 - accuracy: 0.9503 - val_loss: 0.2417 - val_accuracy: 0.9362\n",
      "Epoch 52/100\n",
      "1568/1568 [==============================] - 1s 575us/sample - loss: 0.1729 - accuracy: 0.9605 - val_loss: 0.2418 - val_accuracy: 0.9362\n",
      "Epoch 53/100\n",
      "1568/1568 [==============================] - 1s 574us/sample - loss: 0.1586 - accuracy: 0.9688 - val_loss: 0.2350 - val_accuracy: 0.9439\n",
      "Epoch 54/100\n",
      "1568/1568 [==============================] - 1s 574us/sample - loss: 0.1691 - accuracy: 0.9579 - val_loss: 0.2347 - val_accuracy: 0.9439\n",
      "Epoch 55/100\n",
      "1568/1568 [==============================] - 1s 638us/sample - loss: 0.1565 - accuracy: 0.9668 - val_loss: 0.2312 - val_accuracy: 0.9362\n",
      "Epoch 56/100\n",
      "1568/1568 [==============================] - 1s 654us/sample - loss: 0.1743 - accuracy: 0.9560 - val_loss: 0.2364 - val_accuracy: 0.9286\n",
      "Epoch 57/100\n",
      "1568/1568 [==============================] - 1s 650us/sample - loss: 0.1618 - accuracy: 0.9605 - val_loss: 0.2318 - val_accuracy: 0.9311\n",
      "Epoch 58/100\n",
      "1568/1568 [==============================] - 1s 635us/sample - loss: 0.1446 - accuracy: 0.9707 - val_loss: 0.2247 - val_accuracy: 0.9311\n",
      "Epoch 59/100\n",
      "1568/1568 [==============================] - 1s 653us/sample - loss: 0.1506 - accuracy: 0.9617 - val_loss: 0.2179 - val_accuracy: 0.9413\n",
      "Epoch 60/100\n",
      "1568/1568 [==============================] - 1s 639us/sample - loss: 0.1404 - accuracy: 0.9675 - val_loss: 0.2090 - val_accuracy: 0.9337\n",
      "Epoch 61/100\n",
      "1568/1568 [==============================] - 1s 659us/sample - loss: 0.1315 - accuracy: 0.9732 - val_loss: 0.2104 - val_accuracy: 0.9362\n",
      "Epoch 62/100\n",
      "1568/1568 [==============================] - 1s 643us/sample - loss: 0.1351 - accuracy: 0.9656 - val_loss: 0.2072 - val_accuracy: 0.9464\n",
      "Epoch 63/100\n",
      "1568/1568 [==============================] - 1s 643us/sample - loss: 0.1252 - accuracy: 0.9688 - val_loss: 0.2038 - val_accuracy: 0.9490\n",
      "Epoch 64/100\n",
      "1568/1568 [==============================] - 1s 642us/sample - loss: 0.1174 - accuracy: 0.9764 - val_loss: 0.1962 - val_accuracy: 0.9413\n",
      "Epoch 65/100\n",
      "1568/1568 [==============================] - 1s 641us/sample - loss: 0.1236 - accuracy: 0.9675 - val_loss: 0.2037 - val_accuracy: 0.9337\n",
      "Epoch 66/100\n",
      "1568/1568 [==============================] - 1s 643us/sample - loss: 0.1176 - accuracy: 0.9770 - val_loss: 0.1914 - val_accuracy: 0.9439\n",
      "Epoch 67/100\n",
      "1568/1568 [==============================] - 1s 640us/sample - loss: 0.0996 - accuracy: 0.9809 - val_loss: 0.1981 - val_accuracy: 0.9362\n",
      "Epoch 68/100\n",
      "1568/1568 [==============================] - 1s 641us/sample - loss: 0.1067 - accuracy: 0.9732 - val_loss: 0.1937 - val_accuracy: 0.9388\n",
      "Epoch 69/100\n",
      "1568/1568 [==============================] - 1s 629us/sample - loss: 0.1063 - accuracy: 0.9726 - val_loss: 0.1907 - val_accuracy: 0.9464\n",
      "Epoch 70/100\n",
      "1568/1568 [==============================] - 1s 643us/sample - loss: 0.0978 - accuracy: 0.9841 - val_loss: 0.1838 - val_accuracy: 0.9490\n",
      "Epoch 71/100\n",
      "1568/1568 [==============================] - 1s 633us/sample - loss: 0.0891 - accuracy: 0.9841 - val_loss: 0.1827 - val_accuracy: 0.9413\n",
      "Epoch 72/100\n",
      "1568/1568 [==============================] - 1s 622us/sample - loss: 0.0914 - accuracy: 0.9790 - val_loss: 0.1763 - val_accuracy: 0.9541\n",
      "Epoch 73/100\n",
      "1568/1568 [==============================] - 1s 629us/sample - loss: 0.0929 - accuracy: 0.9841 - val_loss: 0.1781 - val_accuracy: 0.9541\n",
      "Epoch 74/100\n",
      "1568/1568 [==============================] - 1s 620us/sample - loss: 0.0911 - accuracy: 0.9790 - val_loss: 0.1756 - val_accuracy: 0.9464\n",
      "Epoch 75/100\n",
      "1568/1568 [==============================] - 1s 630us/sample - loss: 0.0924 - accuracy: 0.9770 - val_loss: 0.1716 - val_accuracy: 0.9541\n",
      "Epoch 76/100\n",
      "1568/1568 [==============================] - 1s 614us/sample - loss: 0.0868 - accuracy: 0.9783 - val_loss: 0.1839 - val_accuracy: 0.9439\n",
      "Epoch 77/100\n",
      "1568/1568 [==============================] - 1s 630us/sample - loss: 0.0877 - accuracy: 0.9802 - val_loss: 0.1702 - val_accuracy: 0.9566\n",
      "Epoch 78/100\n",
      "1568/1568 [==============================] - 1s 605us/sample - loss: 0.0853 - accuracy: 0.9815 - val_loss: 0.1598 - val_accuracy: 0.9541\n",
      "Epoch 79/100\n",
      "1568/1568 [==============================] - 1s 582us/sample - loss: 0.0764 - accuracy: 0.9841 - val_loss: 0.1720 - val_accuracy: 0.9541\n",
      "Epoch 80/100\n",
      "1568/1568 [==============================] - 1s 597us/sample - loss: 0.0798 - accuracy: 0.9834 - val_loss: 0.1706 - val_accuracy: 0.9490\n",
      "Epoch 81/100\n",
      "1568/1568 [==============================] - 1s 623us/sample - loss: 0.0788 - accuracy: 0.9815 - val_loss: 0.1577 - val_accuracy: 0.9617\n",
      "Epoch 82/100\n",
      "1568/1568 [==============================] - 1s 605us/sample - loss: 0.0789 - accuracy: 0.9796 - val_loss: 0.1626 - val_accuracy: 0.9566\n",
      "Epoch 83/100\n",
      "1568/1568 [==============================] - 1s 627us/sample - loss: 0.0774 - accuracy: 0.9841 - val_loss: 0.1572 - val_accuracy: 0.9566\n",
      "Epoch 84/100\n",
      "1568/1568 [==============================] - 1s 577us/sample - loss: 0.0717 - accuracy: 0.9847 - val_loss: 0.1579 - val_accuracy: 0.9566\n",
      "Epoch 85/100\n",
      "1568/1568 [==============================] - 1s 581us/sample - loss: 0.0738 - accuracy: 0.9834 - val_loss: 0.1555 - val_accuracy: 0.9566\n",
      "Epoch 86/100\n",
      "1568/1568 [==============================] - 1s 570us/sample - loss: 0.0686 - accuracy: 0.9828 - val_loss: 0.1505 - val_accuracy: 0.9668\n",
      "Epoch 87/100\n",
      "1568/1568 [==============================] - 1s 590us/sample - loss: 0.0583 - accuracy: 0.9892 - val_loss: 0.1607 - val_accuracy: 0.9515\n",
      "Epoch 88/100\n",
      "1568/1568 [==============================] - 1s 616us/sample - loss: 0.0577 - accuracy: 0.9923 - val_loss: 0.1527 - val_accuracy: 0.9617\n",
      "Epoch 89/100\n",
      "1568/1568 [==============================] - 1s 588us/sample - loss: 0.0603 - accuracy: 0.9892 - val_loss: 0.1511 - val_accuracy: 0.9617\n",
      "Epoch 90/100\n",
      "1568/1568 [==============================] - 1s 600us/sample - loss: 0.0661 - accuracy: 0.9841 - val_loss: 0.1603 - val_accuracy: 0.9541\n",
      "Epoch 91/100\n",
      "1568/1568 [==============================] - 1s 551us/sample - loss: 0.0522 - accuracy: 0.9892 - val_loss: 0.1550 - val_accuracy: 0.9515\n",
      "Epoch 92/100\n",
      "1568/1568 [==============================] - 1s 556us/sample - loss: 0.0610 - accuracy: 0.9866 - val_loss: 0.1498 - val_accuracy: 0.9490\n",
      "Epoch 93/100\n",
      "1568/1568 [==============================] - 1s 586us/sample - loss: 0.0533 - accuracy: 0.9904 - val_loss: 0.1496 - val_accuracy: 0.9490\n",
      "Epoch 94/100\n",
      "1568/1568 [==============================] - 1s 583us/sample - loss: 0.0570 - accuracy: 0.9866 - val_loss: 0.1619 - val_accuracy: 0.9541\n",
      "Epoch 95/100\n",
      "1568/1568 [==============================] - 1s 595us/sample - loss: 0.0545 - accuracy: 0.9892 - val_loss: 0.1589 - val_accuracy: 0.9515\n",
      "Epoch 96/100\n",
      "1568/1568 [==============================] - 1s 583us/sample - loss: 0.0539 - accuracy: 0.9892 - val_loss: 0.1394 - val_accuracy: 0.9592\n",
      "Epoch 97/100\n",
      "1568/1568 [==============================] - 1s 579us/sample - loss: 0.0518 - accuracy: 0.9892 - val_loss: 0.1406 - val_accuracy: 0.9592\n",
      "Epoch 98/100\n",
      "1568/1568 [==============================] - 1s 592us/sample - loss: 0.0456 - accuracy: 0.9923 - val_loss: 0.1433 - val_accuracy: 0.9617\n",
      "Epoch 99/100\n",
      "1568/1568 [==============================] - 1s 587us/sample - loss: 0.0645 - accuracy: 0.9866 - val_loss: 0.1536 - val_accuracy: 0.9490\n",
      "Epoch 100/100\n",
      "1568/1568 [==============================] - 1s 595us/sample - loss: 0.0532 - accuracy: 0.9853 - val_loss: 0.1411 - val_accuracy: 0.9566\n",
      "840/840 [==============================] - 0s 214us/sample - loss: 0.1075 - accuracy: 0.9631\n",
      "Accuracy on the test set is: 0.9630952477455139\n"
     ]
    }
   ],
   "source": [
    "if __name__ == \"__main__\":\n",
    "    # creating all of our data we need\n",
    "    X_train, X_validation, X_test, y_train, y_validation, y_test = prepare_datasets(0.3, 0.2)\n",
    "    \n",
    "    # building the model here \n",
    "    input_shape = (X_train.shape[1], X_train.shape[2], X_train.shape[3] )\n",
    "    # builds the network from the function constrcuted above\n",
    "    model = build_model(input_shape)\n",
    "    \n",
    "    #compiling the network\n",
    "    optimizer = keras.optimizers.Adam(learning_rate=0.0001)\n",
    "    model.compile(optimizer=optimizer,\n",
    "                 loss='sparse_categorical_crossentropy',\n",
    "                 metrics=['accuracy'])\n",
    "    \n",
    "    #training the network\n",
    "    history = model.fit(X_train, y_train, validation_data=(X_validation,y_validation),\n",
    "             batch_size=30, epochs=100)\n",
    "    \n",
    "    # evaluating the netowrk on the next set\n",
    "    test_error, test_accuracy = model.evaluate(X_test, y_test, verbose=1)\n",
    "    print(\"Accuracy on the test set is: {}\".format(test_accuracy))\n",
    "    "
   ]
  },
  {
   "cell_type": "code",
   "execution_count": 68,
   "metadata": {},
   "outputs": [],
   "source": [
    "def predict(model, x, y):\n",
    "    x = x[np.newaxis, ...]\n",
    "    \n",
    "    # the prediction is 2d\n",
    "    preds = model.predict(x) # expects a 4d array but X is originally 3d\n",
    "    \n",
    "    # want to extract the index of X with the max favlue\n",
    "    pred_index = np.argmax(preds, axis = 1 ) # \n",
    "    print(\"Expected index of the output: {}, Predicted index: {}\".format(y, pred_index))"
   ]
  },
  {
   "cell_type": "code",
   "execution_count": 91,
   "metadata": {},
   "outputs": [
    {
     "name": "stdout",
     "output_type": "stream",
     "text": [
      "Expected index of the output: 7, Predicted index: [7]\n"
     ]
    }
   ],
   "source": [
    "# making predictions now\n",
    "x1 = X_test[122]\n",
    "y1 = y_test[122]\n",
    "\n",
    "predict(model, x1, y1)"
   ]
  },
  {
   "cell_type": "code",
   "execution_count": 71,
   "metadata": {},
   "outputs": [
    {
     "name": "stdout",
     "output_type": "stream",
     "text": [
      "Expected index of the output: 2, Predicted index: [2]\n"
     ]
    }
   ],
   "source": [
    "# another test\n",
    "x2 = X_test[132]\n",
    "y2 = y_test[132]\n",
    "\n",
    "predict(model, x2, y2)"
   ]
  },
  {
   "cell_type": "code",
   "execution_count": 129,
   "metadata": {},
   "outputs": [
    {
     "data": {
      "image/png": "[encoded data removed]",
      "text/plain": [
       "<Figure size 432x288 with 1 Axes>"
      ]
     },
     "metadata": {
      "needs_background": "light"
     },
     "output_type": "display_data"
    }
   ],
   "source": [
    "fig, axs = plt.subplots()\n",
    "\n",
    "# create accuracy subplots\n",
    "axs.plot(history.history[\"accuracy\"], label=\"Train Accuracy\")\n",
    "axs.plot(history.history[\"val_accuracy\"], label=\"Test Accuracy\")\n",
    "axs.set_ylabel(\"Accuracy\")\n",
    "axs.set_xlabel(\"Epoch\")\n",
    "axs.legend(loc=\"lower right\")\n",
    "axs.set_title(\"Accuracy Evaluation\")\n",
    "plt.savefig(\"cnn_initial_accuracy\")\n",
    "plt.show()\n"
   ]
  },
  {
   "cell_type": "code",
   "execution_count": 126,
   "metadata": {},
   "outputs": [
    {
     "data": {
      "image/png": "[encoded data removed]",
      "text/plain": [
       "<Figure size 432x288 with 1 Axes>"
      ]
     },
     "metadata": {
      "needs_background": "light"
     },
     "output_type": "display_data"
    }
   ],
   "source": [
    "fig, axs = plt.subplots()    \n",
    "axs.plot(history.history[\"loss\"], label=\"Train Error\")\n",
    "axs.plot(history.history[\"val_loss\"], label=\"Test Error\")\n",
    "axs.set_ylabel(\"Error\") \n",
    "axs.set_xlabel(\"Epoch\")\n",
    "axs.legend(loc=\"upper right\")\n",
    "axs.set_title(\"Error Evaluation\")\n",
    "plt.savefig(\"cnn_initial_error\")\n",
    "plt.show()"
   ]
  },
  {
   "cell_type": "code",
   "execution_count": 116,
   "metadata": {},
   "outputs": [],
   "source": [
    "# testing the model with noisy data \n",
    "# first import the new data \n",
    "data_path2 = \"data-light-noise.json\"\n",
    "X1, Y1 = load_data(data_path2)\n",
    "X1 = X1[...,np.newaxis]"
   ]
  },
  {
   "cell_type": "code",
   "execution_count": 99,
   "metadata": {},
   "outputs": [],
   "source": [
    "x = X1[122]\n",
    "y = Y1[122]\n",
    "a = X1[135]\n",
    "b = Y1[135]"
   ]
  },
  {
   "cell_type": "code",
   "execution_count": 100,
   "metadata": {},
   "outputs": [
    {
     "name": "stdout",
     "output_type": "stream",
     "text": [
      "Expected index of the output: 0, Predicted index: [2]\n",
      "Expected index of the output: 0, Predicted index: [0]\n"
     ]
    }
   ],
   "source": [
    "predict(model, x, y)\n",
    "predict(model, a, b)"
   ]
  },
  {
   "cell_type": "code",
   "execution_count": 117,
   "metadata": {},
   "outputs": [
    {
     "name": "stdout",
     "output_type": "stream",
     "text": [
      "2800/2800 [==============================] - 1s 283us/sample - loss: 1.7499 - accuracy: 0.5754\n",
      "Accuracy on the Light Noise set is: 0.5753571391105652\n"
     ]
    }
   ],
   "source": [
    "test_error_noise, test_accuracy_noise= model.evaluate(X1, Y1, verbose=1)\n",
    "print(\"Accuracy on the Light Noise set is: {}\".format(test_accuracy_noise))"
   ]
  },
  {
   "cell_type": "code",
   "execution_count": 130,
   "metadata": {},
   "outputs": [],
   "source": [
    "data_path3 = \"data-heavy-noise.json\"\n",
    "X2, Y2 = load_data(data_path3)\n",
    "X2 = X2[...,np.newaxis]"
   ]
  },
  {
   "cell_type": "code",
   "execution_count": 131,
   "metadata": {},
   "outputs": [
    {
     "name": "stdout",
     "output_type": "stream",
     "text": [
      "2800/2800 [==============================] - 1s 269us/sample - loss: 8.6165 - accuracy: 0.0911\n",
      "Accuracy on the Heavy Noise set is: 0.09107142686843872\n"
     ]
    }
   ],
   "source": [
    "test_error_heavy, test_accuracy_heavy= model.evaluate(X2, Y2, verbose=1)\n",
    "print(\"Accuracy on the Heavy Noise set is: {}\".format(test_accuracy_heavy))"
   ]
  },
  {
   "cell_type": "code",
   "execution_count": 132,
   "metadata": {},
   "outputs": [
    {
     "data": {
      "image/png": "[encoded data removed]",
      "text/plain": [
       "<IPython.core.display.Image object>"
      ]
     },
     "execution_count": 132,
     "metadata": {},
     "output_type": "execute_result"
    }
   ],
   "source": [
    "from tensorflow.keras import layers\n",
    "keras.utils.plot_model(model, 'multi_input_and_output_model.png', show_shapes=False)"
   ]
  },
  {
   "cell_type": "code",
   "execution_count": 133,
   "metadata": {},
   "outputs": [],
   "source": [
    "def prepare_datasets_(data_path, test_size, validation_size):\n",
    "    # loading the data\n",
    "    X, y = load_data(data_path)\n",
    "    \n",
    "    # creating a training and testing split in the data first\n",
    "    X_train, X_test, y_train, y_test = train_test_split(X, y, test_size=test_size)\n",
    "    \n",
    "    # now creating the training and validation split\n",
    "    X_train, X_validation, y_train, y_validation = train_test_split(X_train, y_train, \n",
    "                                                                    test_size=validation_size)\n",
    "    # for CNN tf expects a 3-d array for each sample. The third dimension for us is one.\n",
    "    X_train = X_train[..., np.newaxis] #this will now be a 4D array, not sure if we need this\n",
    "    X_test = X_test[..., np.newaxis]\n",
    "    X_validation = X_validation[..., np.newaxis]\n",
    "    \n",
    "    return X_train, X_validation, X_test, y_train, y_validation, y_test"
   ]
  },
  {
   "cell_type": "code",
   "execution_count": null,
   "metadata": {},
   "outputs": [],
   "source": [
    "X_train2, X_validation2, X_test2, y_train2, y_validation2, y_test2 = \\\n",
    "prepare_datasets_(\"data-light-noise.json\", 0.2, 0.3)"
   ]
  },
  {
   "cell_type": "code",
   "execution_count": null,
   "metadata": {},
   "outputs": [],
   "source": [
    "history2 = model.fit(X_train2, y_train2, validation_data=(X_validation2,y_validation2),\n",
    "                     batch_size=30, epochs=50)"
   ]
  },
  {
   "cell_type": "code",
   "execution_count": 135,
   "metadata": {},
   "outputs": [],
   "source": []
  }
 ],
 "metadata": {
  "kernelspec": {
   "display_name": "Python 3",
   "language": "python",
   "name": "python3"
  },
  "language_info": {
   "codemirror_mode": {
    "name": "ipython",
    "version": 3
   },
   "file_extension": ".py",
   "mimetype": "text/x-python",
   "name": "python",
   "nbconvert_exporter": "python",
   "pygments_lexer": "ipython3",
   "version": "3.7.4"
  }
 },
 "nbformat": 4,
 "nbformat_minor": 2
}
